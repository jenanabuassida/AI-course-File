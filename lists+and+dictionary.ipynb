{
 "cells": [
  {
   "cell_type": "markdown",
   "metadata": {},
   "source": [
    "# lists and dictionary in python"
   ]
  },
  {
   "cell_type": "code",
   "execution_count": 11,
   "metadata": {
    "collapsed": true
   },
   "outputs": [],
   "source": [
    "import pandas as pd"
   ]
  },
  {
   "cell_type": "code",
   "execution_count": 12,
   "metadata": {
    "collapsed": true
   },
   "outputs": [],
   "source": [
    "capitals={'Palestine':'Jarusalem','Italy':'Roma','Egypt':'Cairo','France':'Paris','Iraq':'Bagdad','lebanon':'Birut','Al-jazar':'Al-jazar','USA':'Washenton','Jordan':'Aman','Tylind':'Bankok'}"
   ]
  },
  {
   "cell_type": "markdown",
   "metadata": {},
   "source": [
    "create a new dictionary capitals"
   ]
  },
  {
   "cell_type": "code",
   "execution_count": 13,
   "metadata": {},
   "outputs": [
    {
     "data": {
      "text/plain": [
       "'Jarusalem'"
      ]
     },
     "execution_count": 13,
     "metadata": {},
     "output_type": "execute_result"
    }
   ],
   "source": [
    "capitals['Palestine']"
   ]
  },
  {
   "cell_type": "markdown",
   "metadata": {},
   "source": [
    "print out the dictionary elements"
   ]
  },
  {
   "cell_type": "code",
   "execution_count": 14,
   "metadata": {
    "collapsed": true
   },
   "outputs": [],
   "source": [
    "capitals_bycapital = {capitals[key]: key for key in capitals}"
   ]
  },
  {
   "cell_type": "code",
   "execution_count": 15,
   "metadata": {},
   "outputs": [
    {
     "data": {
      "text/plain": [
       "{'Al-jazar': 'Al-jazar',\n",
       " 'Aman': 'Jordan',\n",
       " 'Bagdad': 'Iraq',\n",
       " 'Bankok': 'Tylind',\n",
       " 'Birut': 'lebanon',\n",
       " 'Cairo': 'Egypt',\n",
       " 'Jarusalem': 'Palestine',\n",
       " 'Paris': 'France',\n",
       " 'Roma': 'Italy',\n",
       " 'Washenton': 'USA'}"
      ]
     },
     "execution_count": 15,
     "metadata": {},
     "output_type": "execute_result"
    }
   ],
   "source": [
    "capitals_bycapital"
   ]
  },
  {
   "cell_type": "code",
   "execution_count": 16,
   "metadata": {
    "collapsed": true
   },
   "outputs": [],
   "source": [
    "capitals=['Palestine ','Italy ','Egypt','France ','Iraq ','lebanon ','Al-jazar ','USA ','Jordan','Tylind ']\n",
    "capitals1=['Jarusalem','Roma','Cairo','Paris','Bagdad','Birut','Al-jazar','Washenton','Aman','Bankok']"
   ]
  },
  {
   "cell_type": "markdown",
   "metadata": {},
   "source": [
    "create two lists the first contains the countries and the second contains the capitals of these countries"
   ]
  },
  {
   "cell_type": "code",
   "execution_count": 19,
   "metadata": {
    "collapsed": true
   },
   "outputs": [],
   "source": [
    "capitals5=pd.Series(['Palestine ','Italy ','Egypt','France ','Iraq ','lebanon ','Al-jazar ','USA ','Jordan','Tylind '],\n",
    "                  ['Jarusalem','Roma','Cairo','Paris','Bagdad','Birut','Al-jazar','Washenton','Aman','Bankok'])"
   ]
  },
  {
   "cell_type": "markdown",
   "metadata": {},
   "source": [
    "combine the country name with its capilat name"
   ]
  },
  {
   "cell_type": "code",
   "execution_count": 20,
   "metadata": {},
   "outputs": [
    {
     "data": {
      "text/plain": [
       "Jarusalem    Palestine \n",
       "Roma             Italy \n",
       "Cairo             Egypt\n",
       "Paris           France \n",
       "Bagdad            Iraq \n",
       "Birut          lebanon \n",
       "Al-jazar      Al-jazar \n",
       "Washenton          USA \n",
       "Aman             Jordan\n",
       "Bankok          Tylind \n",
       "dtype: object"
      ]
     },
     "execution_count": 20,
     "metadata": {},
     "output_type": "execute_result"
    }
   ],
   "source": [
    "capitals5"
   ]
  },
  {
   "cell_type": "markdown",
   "metadata": {
    "collapsed": true
   },
   "source": [
    "print out each country with its capital name"
   ]
  },
  {
   "cell_type": "code",
   "execution_count": null,
   "metadata": {
    "collapsed": true
   },
   "outputs": [],
   "source": []
  }
 ],
 "metadata": {
  "kernelspec": {
   "display_name": "Python 3",
   "language": "python",
   "name": "python3"
  },
  "language_info": {
   "codemirror_mode": {
    "name": "ipython",
    "version": 3
   },
   "file_extension": ".py",
   "mimetype": "text/x-python",
   "name": "python",
   "nbconvert_exporter": "python",
   "pygments_lexer": "ipython3",
   "version": "3.6.1"
  }
 },
 "nbformat": 4,
 "nbformat_minor": 2
}
